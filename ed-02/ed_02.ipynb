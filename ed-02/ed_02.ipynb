{
  "nbformat": 4,
  "nbformat_minor": 0,
  "metadata": {
    "colab": {
      "provenance": []
    },
    "kernelspec": {
      "name": "python3",
      "display_name": "Python 3"
    },
    "language_info": {
      "name": "python"
    }
  },
  "cells": [
    {
      "cell_type": "code",
      "source": [
        "import pprint"
      ],
      "metadata": {
        "id": "bqgHic244OBl"
      },
      "execution_count": 12,
      "outputs": []
    },
    {
      "cell_type": "code",
      "execution_count": 5,
      "metadata": {
        "id": "WAYHXQCO2aH1"
      },
      "outputs": [],
      "source": [
        "def fatorial(numero):\n",
        "  if (numero == 1 or numero == 0):\n",
        "    return 1\n",
        "  else:\n",
        "    return numero * fatorial(numero - 1)\n",
        "  "
      ]
    },
    {
      "cell_type": "code",
      "source": [
        "def numeroMoedas(valor):\n",
        "  moeda_001 = 0\n",
        "  moeda_005 = 0\n",
        "  moeda_010 = 0\n",
        "  moeda_025 = 0\n",
        "  moeda_050 = 0\n",
        "  moeda_1 = int(valor)\n",
        "  valor = valor - moeda_1\n",
        "  while valor > 0 and valor >= 0.50:\n",
        "    valor = valor - 0.50\n",
        "    moeda_050 += 1\n",
        "  while valor > 0 and valor >= 0.25:\n",
        "    valor = valor - 0.25\n",
        "    moeda_025 += 1\n",
        "  while valor > 0 and valor >= 0.10:\n",
        "    valor = valor - 0.10\n",
        "    moeda_010 += 1\n",
        "  while valor > 0 and valor >= 0.05:\n",
        "    valor = valor - 0.05\n",
        "  while valor > 0 and valor >= 0.01:\n",
        "    valor = valor - 0.01\n",
        "    moeda_010 += 1\n",
        "  print(\"1,00 * \", moeda_1)\n",
        "  print(\"0,50 * \",moeda_050)\n",
        "  print(\"0,25 * \",moeda_025)\n",
        "  print(\"0,10 * \",moeda_010)\n",
        "  print(\"0,05 * \",moeda_005)\n",
        "  print(\"0,01 * \",moeda_001)\n",
        "\n",
        "\n"
      ],
      "metadata": {
        "id": "qPXJ1N5H68yr"
      },
      "execution_count": 44,
      "outputs": []
    },
    {
      "cell_type": "code",
      "source": [
        "[print(fatorial(x)) for x in range (0,10)] "
      ],
      "metadata": {
        "colab": {
          "base_uri": "https://localhost:8080/"
        },
        "id": "uqNTf4-M2z3z",
        "outputId": "153c2556-2a0d-4c24-fd6e-72937b49e98c"
      },
      "execution_count": 30,
      "outputs": [
        {
          "output_type": "stream",
          "name": "stdout",
          "text": [
            "1\n",
            "1\n",
            "2\n",
            "6\n",
            "24\n",
            "120\n",
            "720\n",
            "5040\n",
            "40320\n",
            "362880\n"
          ]
        },
        {
          "output_type": "execute_result",
          "data": {
            "text/plain": [
              "[None, None, None, None, None, None, None, None, None, None]"
            ]
          },
          "metadata": {},
          "execution_count": 30
        }
      ]
    },
    {
      "cell_type": "code",
      "source": [
        "lista = [fatorial(x) for x in range (0,10)]\n",
        "\n",
        "pp = pprint.PrettyPrinter(width=42, compact=True)\n",
        "\n",
        "pp.pprint(lista)"
      ],
      "metadata": {
        "colab": {
          "base_uri": "https://localhost:8080/"
        },
        "id": "yA75L0TH4FC0",
        "outputId": "32d880ec-b34f-4172-d2ce-8d630020b392"
      },
      "execution_count": 28,
      "outputs": [
        {
          "output_type": "stream",
          "name": "stdout",
          "text": [
            "[1, 1, 2, 6, 24, 120, 720, 5040, 40320,\n",
            " 362880]\n"
          ]
        }
      ]
    },
    {
      "cell_type": "code",
      "source": [
        "lista.reverse()\n",
        "pp.pprint(lista)"
      ],
      "metadata": {
        "colab": {
          "base_uri": "https://localhost:8080/"
        },
        "id": "q6puiGWx5sPi",
        "outputId": "05e1184e-52a5-4c58-b1f0-4fd9c6cfa264"
      },
      "execution_count": 34,
      "outputs": [
        {
          "output_type": "stream",
          "name": "stdout",
          "text": [
            "[362880, 40320, 5040, 720, 120, 24, 6, 2,\n",
            " 1, 1]\n"
          ]
        }
      ]
    },
    {
      "cell_type": "code",
      "source": [
        "numeroMoedas(2.35)"
      ],
      "metadata": {
        "colab": {
          "base_uri": "https://localhost:8080/"
        },
        "id": "PkNLvxIj3XoY",
        "outputId": "51ffa091-9e1c-45e0-cda0-c50a62a9f178"
      },
      "execution_count": 45,
      "outputs": [
        {
          "output_type": "stream",
          "name": "stdout",
          "text": [
            "1,00 *  2\n",
            "0,50 *  0\n",
            "0,25 *  1\n",
            "0,10 *  1\n",
            "0,05 *  0\n",
            "0,01 *  0\n"
          ]
        }
      ]
    }
  ]
}